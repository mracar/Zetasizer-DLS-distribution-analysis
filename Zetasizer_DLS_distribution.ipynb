{
 "cells": [
  {
   "cell_type": "markdown",
   "id": "c585fe58",
   "metadata": {},
   "source": [
    "# Zetasizer data analysis - particel size distribution"
   ]
  },
  {
   "cell_type": "code",
   "execution_count": 1,
   "id": "6de30191",
   "metadata": {},
   "outputs": [],
   "source": [
    "import pandas as pd\n",
    "import numpy as np\n",
    "import seaborn as sns\n",
    "import scipy as sp\n",
    "import os\n",
    "from datetime import datetime"
   ]
  },
  {
   "cell_type": "code",
   "execution_count": 2,
   "id": "8a973cd3",
   "metadata": {},
   "outputs": [],
   "source": [
    "def percentile(df, p=50, y=\"size\", x=\"volume_cum\"):\n",
    "    stop = 0\n",
    "    for row in df[x]:\n",
    "        if stop == 0:\n",
    "            if row >= p and stop == 0:\n",
    "                stop = 1\n",
    "                ind = df.loc[df[x] == row].index[0]\n",
    "                delta_y = df[y].iloc[[ind]].values - df[y].iloc[[ind - 1]].values\n",
    "                delta_x = df[x].iloc[[ind]].values - df[x].iloc[[ind - 1]].values\n",
    "                y_1 = df[y].iloc[[ind - 1]].values\n",
    "                x_1 = df[x].iloc[[ind - 1]].values\n",
    "                size_percentile = delta_y * (p - x_1) / delta_x + y_1\n",
    "    try:\n",
    "        return size_percentile\n",
    "    except:\n",
    "        print(\"nije prošlo \", file)\n",
    "\n",
    "\n",
    "def describe_dist(df, perc=[10, 50, 90, 98], path=os.getcwd()):\n",
    "    df_res = pd.DataFrame()\n",
    "    for m in perc:\n",
    "        df_res[\"D\" + str(m)] = percentile(df, p=m)\n",
    "    try:\n",
    "        df_res[\"Span(D90-D10)/D50\"] = (df_res[\"D90\"] - df_res[\"D10\"]) / df_res[\"D50\"]\n",
    "    except:\n",
    "        print(\"span can not be calculated\")\n",
    "    df_res[\"name\"] = file\n",
    "    os.chdir(\"../\")\n",
    "    os.chdir(\"results\")\n",
    "    # df_res.to_csv(file + '_RESULTS.csv', sep=';', decimal=',')\n",
    "    os.chdir(\"../\")\n",
    "    os.chdir(\"data\")\n",
    "    return df_res"
   ]
  },
  {
   "cell_type": "markdown",
   "id": "42b03ab4",
   "metadata": {},
   "source": [
    "Imput the file name:"
   ]
  },
  {
   "cell_type": "code",
   "execution_count": 3,
   "id": "0ab21e8f",
   "metadata": {},
   "outputs": [],
   "source": [
    "# Current working directory\n",
    "path = os.chdir(\"data\")\n",
    "path = os.getcwd()\n",
    "\n",
    "# Files in CWD\n",
    "directory = os.listdir(path)"
   ]
  },
  {
   "cell_type": "code",
   "execution_count": 4,
   "id": "700b76c6",
   "metadata": {},
   "outputs": [],
   "source": [
    "os.path.abspath(os.path.join(path, os.pardir))\n",
    "\n",
    "df_all = pd.DataFrame([\"D10\", \"D50\", \"D90\", \"D98\", \"Span(D90-D10)/D50\", \"name\"])\n",
    "dt = datetime.now().strftime(\"%Y-%m-%d_%H-%M-%S\")\n",
    "\n",
    "for f_ind, file in enumerate(directory):\n",
    "    if file[-4:] == \".txt\":\n",
    "        if f_ind == 0:\n",
    "            df = pd.read_csv(\n",
    "                file, names=[\"size\", \"volume\"], sep=\"\\t\", decimal=\",\", skiprows=[0, -1]\n",
    "            )\n",
    "\n",
    "            df.dropna(axis=0, inplace=True)\n",
    "            df[\"volume_cum\"] = df[\"volume\"].cumsum(axis=0)\n",
    "            df[\"volume_cum\"] = 100 * df[\"volume_cum\"] / df[\"volume_cum\"].max()\n",
    "            df_all = describe_dist(df)\n",
    "        else:\n",
    "            df = pd.read_csv(\n",
    "                file, names=[\"size\", \"volume\"], sep=\"\\t\", decimal=\",\", skiprows=[0, -1]\n",
    "            )\n",
    "            df.dropna(axis=0, inplace=True)\n",
    "            df[\"volume_cum\"] = df[\"volume\"].cumsum(axis=0)\n",
    "            df[\"volume_cum\"] = 100 * df[\"volume_cum\"] / df[\"volume_cum\"].max()\n",
    "            df_one = describe_dist(df)\n",
    "            df_all = df_all.append(df_one)\n",
    "\n",
    "os.chdir(\"../\")\n",
    "os.chdir(\"results\")\n",
    "df_all.to_csv(str(dt) + \"_RESULTS.csv\", sep=\";\", decimal=\",\")\n",
    "os.chdir(\"../\")"
   ]
  },
  {
   "cell_type": "code",
   "execution_count": 5,
   "id": "8ff00fa5",
   "metadata": {
    "scrolled": true
   },
   "outputs": [
    {
     "data": {
      "image/png": "[encoded data removed]",
      "text/plain": [
       "<Figure size 432x288 with 1 Axes>"
      ]
     },
     "metadata": {},
     "output_type": "display_data"
    }
   ],
   "source": [
    "sns.set_style(\"ticks\")\n",
    "sns.set_context(\"notebook\", font_scale=1.5, rc={\"lines.linewidth\": 3})\n",
    "\n",
    "g = sns.lineplot(x=\"size\", y=\"volume_cum\", data=df)\n",
    "g.set_xscale(\"log\")"
   ]
  },
  {
   "cell_type": "code",
   "execution_count": 6,
   "id": "50c9ec73",
   "metadata": {},
   "outputs": [
    {
     "data": {
      "image/png": "[encoded data removed]",
      "text/plain": [
       "<Figure size 432x288 with 1 Axes>"
      ]
     },
     "metadata": {},
     "output_type": "display_data"
    }
   ],
   "source": [
    "g = sns.lineplot(x=\"size\", y=\"volume\", data=df)\n",
    "\n",
    "g.set_xscale(\"log\")"
   ]
  },
  {
   "cell_type": "code",
   "execution_count": null,
   "id": "a5e6839b",
   "metadata": {},
   "outputs": [],
   "source": []
  },
  {
   "cell_type": "code",
   "execution_count": null,
   "id": "8f86405e",
   "metadata": {},
   "outputs": [],
   "source": []
  }
 ],
 "metadata": {
  "kernelspec": {
   "display_name": "Python 3",
   "language": "python",
   "name": "python3"
  },
  "language_info": {
   "codemirror_mode": {
    "name": "ipython",
    "version": 3
   },
   "file_extension": ".py",
   "mimetype": "text/x-python",
   "name": "python",
   "nbconvert_exporter": "python",
   "pygments_lexer": "ipython3",
   "version": "3.8.8"
  }
 },
 "nbformat": 4,
 "nbformat_minor": 5
}
